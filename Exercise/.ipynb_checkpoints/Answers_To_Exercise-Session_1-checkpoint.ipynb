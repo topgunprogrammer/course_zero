{
 "cells": [
  {
   "cell_type": "markdown",
   "id": "545c0e7c",
   "metadata": {},
   "source": [
    "### Exercise Course Zero "
   ]
  },
  {
   "cell_type": "markdown",
   "id": "79c863b6",
   "metadata": {},
   "source": [
    "1. Given a number, find the sum of its digits. Take the number as\n",
    "an input from the user"
   ]
  },
  {
   "cell_type": "code",
   "execution_count": 7,
   "id": "397afbb0",
   "metadata": {},
   "outputs": [
    {
     "name": "stdout",
     "output_type": "stream",
     "text": [
      "Enter a Number : 123\n",
      "Sum of its Digits : 6\n"
     ]
    }
   ],
   "source": [
    "n = int(input(\"Enter a Number : \"))\n",
    "output = 0\n",
    "while n > 0: \n",
    "    output += n % 10 \n",
    "    n =n // 10\n",
    "print(\"Sum of its Digits :\", output)"
   ]
  },
  {
   "cell_type": "markdown",
   "id": "19195097",
   "metadata": {},
   "source": [
    " 2. Given a number, check whether the given number is an\n",
    "    Armstrong number or not. A positive integer is called an\n",
    "    Armstrong number of order n if:\n",
    "    abcd... = an + bn + cn + dn + ...\n",
    "    Example: 153 = 1*1*1 + 5*5*5 + 3*3*3\n",
    "    153 is an Armstrong number of order 3.\n",
    "    Inputs from the user will be number and order n.\n"
   ]
  },
  {
   "cell_type": "code",
   "execution_count": 13,
   "id": "35005ccc",
   "metadata": {},
   "outputs": [
    {
     "name": "stdout",
     "output_type": "stream",
     "text": [
      "Enter a Number : 153\n",
      "Enter the Order N : 3\n",
      "True\n"
     ]
    }
   ],
   "source": [
    "number = int(input(\"Enter a Number : \"))\n",
    "n = int(input(\"Enter the Order N : \"))\n",
    "output = 0\n",
    "temp = number\n",
    "while temp > 0: \n",
    "    output += pow(temp % 10 , n)\n",
    "    temp = temp // 10\n",
    "if output == number: \n",
    "    print(\"True\")\n",
    "else:\n",
    "    print(\"False\")"
   ]
  },
  {
   "cell_type": "markdown",
   "id": "9d6ee853",
   "metadata": {},
   "source": [
    "3.  Given a string, write a python function to check if it is\n",
    "    palindrome or not. A string is said to be palindrome if the reverse\n",
    "    of the string is the same as string. For example, “malayalam” is a\n",
    "    palindrome, but “music” is not a palindrome."
   ]
  },
  {
   "cell_type": "code",
   "execution_count": 16,
   "id": "f2847ce0",
   "metadata": {},
   "outputs": [
    {
     "name": "stdout",
     "output_type": "stream",
     "text": [
      "Enter the String : malayalam\n",
      "True\n"
     ]
    }
   ],
   "source": [
    "n = input(\"Enter the String : \")\n",
    "print(\"True\" if n == n[::-1] else \"False\")"
   ]
  },
  {
   "cell_type": "markdown",
   "id": "80f10a0d",
   "metadata": {},
   "source": [
    "4. Given an array which may contain duplicates, print all elements\n",
    "    and their frequencies."
   ]
  },
  {
   "cell_type": "code",
   "execution_count": 19,
   "id": "78833464",
   "metadata": {},
   "outputs": [
    {
     "name": "stdout",
     "output_type": "stream",
     "text": [
      "Frequency of  1  is  2\n",
      "Frequency of  2  is  1\n",
      "Frequency of  3  is  2\n",
      "Frequency of  4  is  1\n",
      "Frequency of  5  is  3\n"
     ]
    }
   ],
   "source": [
    "list =[1,2,3,4,5,1,3,5,5]\n",
    "dictionary = {}\n",
    "for key in list:\n",
    "    if key in dictionary:\n",
    "        dictionary[key] +=1\n",
    "    else:\n",
    "         dictionary[key] = 1\n",
    "for key,value in dictionary.items():\n",
    "    print(\"Frequency of \", key ,\" is \",value)"
   ]
  },
  {
   "cell_type": "markdown",
   "id": "e19ddf52",
   "metadata": {},
   "source": [
    "5. Given a number n, write a function to print all prime factors of\n",
    "    n. For example, if the input number is 12, then output should be\n",
    "    “2 2 3”"
   ]
  },
  {
   "cell_type": "code",
   "execution_count": 21,
   "id": "82ad41a1",
   "metadata": {},
   "outputs": [
    {
     "name": "stdout",
     "output_type": "stream",
     "text": [
      "Enter a Number : 12\n",
      "2 2 3\n"
     ]
    }
   ],
   "source": [
    "n = int(input(\"Enter a Number : \"))\n",
    "while n % 2 == 0:\n",
    "    print(2, end=' ')\n",
    "    n = n // 2\n",
    "\n",
    "for i in range(3, int(n//2) + 1, 2):\n",
    "    while n % i == 0:\n",
    "        print(i, end=' ')\n",
    "        n = n // i\n",
    "\n",
    "if n > 2:\n",
    "    print(n)\n"
   ]
  },
  {
   "cell_type": "markdown",
   "id": "27d4634e",
   "metadata": {},
   "source": [
    "6. Given two numbers n and r, find the value of nCr (binomial\n",
    "   coefficient: nCr = (n!) / (r! * (n-r)!))"
   ]
  },
  {
   "cell_type": "code",
   "execution_count": 28,
   "id": "2fc29639",
   "metadata": {},
   "outputs": [
    {
     "name": "stdout",
     "output_type": "stream",
     "text": [
      "Enter the value for n : 5\n",
      "Enter the value for r : 3\n",
      "nCr :  10\n"
     ]
    }
   ],
   "source": [
    "n = int(input(\"Enter the value for n : \"))\n",
    "r = int(input(\"Enter the value for r : \"))\n",
    "\n",
    "def fact(n) -> int:\n",
    "    f = 1\n",
    "    for i in range(1,n+1):\n",
    "        f = f* i\n",
    "    return f\n",
    "\n",
    "output = fact(n) // (fact(r) * fact(n-r))\n",
    "\n",
    "print(\"nCr : \",output)"
   ]
  },
  {
   "cell_type": "markdown",
   "id": "bb7d1541",
   "metadata": {},
   "source": [
    "7. Searching: Given a sorted array arr[] of n elements, write a\n",
    "    function to search a given element x in arr[]. Do it using linear\n",
    "    and binary search techniques.\n"
   ]
  },
  {
   "cell_type": "markdown",
   "id": "dedaefeb",
   "metadata": {},
   "source": [
    "Linear Search"
   ]
  },
  {
   "cell_type": "code",
   "execution_count": 33,
   "id": "5d46dfc9",
   "metadata": {},
   "outputs": [
    {
     "name": "stdout",
     "output_type": "stream",
     "text": [
      "Enter a Number : 3\n",
      "Item 3 in list at position 2\n"
     ]
    }
   ],
   "source": [
    "list = [1,2,3,4,5,6,7,8,9,10]\n",
    "search = int(input(\"Enter a Number : \"))\n",
    "for index,item in enumerate(list):\n",
    "    if item == search:\n",
    "        print(f\"Item {item} in list at position {index}\")\n",
    "        break;\n",
    "else:\n",
    "    print(\"Item not in list :(\")"
   ]
  },
  {
   "cell_type": "markdown",
   "id": "552fcd25",
   "metadata": {},
   "source": [
    " Binary Search"
   ]
  },
  {
   "cell_type": "code",
   "execution_count": 39,
   "id": "77a21032",
   "metadata": {},
   "outputs": [
    {
     "name": "stdout",
     "output_type": "stream",
     "text": [
      "Enter a Number : 1\n",
      "Item 1 in list at position 0\n"
     ]
    }
   ],
   "source": [
    "list = [1,2,3,4,5,6,7,8,9,10]\n",
    "search = int(input(\"Enter a Number : \"))\n",
    "start = 0\n",
    "end = len(list) -1\n",
    "while start <= end :\n",
    "    mid = (start+end) //2\n",
    "    if search > list[mid]:\n",
    "        start = mid +1\n",
    "    elif search < list[mid]:\n",
    "        end = mid -1\n",
    "    else:\n",
    "        print(f\"Item {search} in list at position {mid}\")\n",
    "        break\n",
    "else:\n",
    "    print(\"Item not in list :(\")"
   ]
  },
  {
   "cell_type": "markdown",
   "id": "1390e00c",
   "metadata": {},
   "source": [
    "8. Input a text file (containing 1 or more paragraphs of English\n",
    "    text) from the user, parse this file to display the frequency of\n",
    "    occurrence of each word in this text file. Find the 3 most frequent\n",
    "    words as well."
   ]
  },
  {
   "cell_type": "code",
   "execution_count": 61,
   "id": "fe36fb27",
   "metadata": {},
   "outputs": [
    {
     "name": "stdout",
     "output_type": "stream",
     "text": [
      "Lorem Ipsum is simply dummy text of the printing and typesetting industry. Lorem Ipsum has been the industry's standard dummy text ever since the 1500s, when an unknown printer took a galley of type and scrambled it to make a type specimen book. It has survived not only five centuries, but also the leap into electronic typesetting, remaining essentially unchanged. It was popularised in the 1960s with the release of Letraset sheets containing Lorem Ipsum passages, and more recently with desktop publishing software like Aldus PageMaker including versions of Lorem Ipsum.\n"
     ]
    }
   ],
   "source": [
    "myfile = open(\"test.txt\")\n",
    "\n",
    "for lines in myfile.readlines():\n",
    "    print(lines)"
   ]
  },
  {
   "cell_type": "markdown",
   "id": "d628818d",
   "metadata": {},
   "source": [
    "Frequency of each word"
   ]
  },
  {
   "cell_type": "code",
   "execution_count": 63,
   "id": "71c0b25d",
   "metadata": {},
   "outputs": [
    {
     "name": "stdout",
     "output_type": "stream",
     "text": [
      "Frequency of  Lorem  is  4\n",
      "Frequency of  Ipsum  is  3\n",
      "Frequency of  is  is  1\n",
      "Frequency of  simply  is  1\n",
      "Frequency of  dummy  is  2\n",
      "Frequency of  text  is  2\n",
      "Frequency of  of  is  4\n",
      "Frequency of  the  is  6\n",
      "Frequency of  printing  is  1\n",
      "Frequency of  and  is  3\n",
      "Frequency of  typesetting  is  1\n",
      "Frequency of  industry.  is  1\n",
      "Frequency of  has  is  2\n",
      "Frequency of  been  is  1\n",
      "Frequency of  industry's  is  1\n",
      "Frequency of  standard  is  1\n",
      "Frequency of  ever  is  1\n",
      "Frequency of  since  is  1\n",
      "Frequency of  1500s,  is  1\n",
      "Frequency of  when  is  1\n",
      "Frequency of  an  is  1\n",
      "Frequency of  unknown  is  1\n",
      "Frequency of  printer  is  1\n",
      "Frequency of  took  is  1\n",
      "Frequency of  a  is  2\n",
      "Frequency of  galley  is  1\n",
      "Frequency of  type  is  2\n",
      "Frequency of  scrambled  is  1\n",
      "Frequency of  it  is  1\n",
      "Frequency of  to  is  1\n",
      "Frequency of  make  is  1\n",
      "Frequency of  specimen  is  1\n",
      "Frequency of  book.  is  1\n",
      "Frequency of  It  is  2\n",
      "Frequency of  survived  is  1\n",
      "Frequency of  not  is  1\n",
      "Frequency of  only  is  1\n",
      "Frequency of  five  is  1\n",
      "Frequency of  centuries,  is  1\n",
      "Frequency of  but  is  1\n",
      "Frequency of  also  is  1\n",
      "Frequency of  leap  is  1\n",
      "Frequency of  into  is  1\n",
      "Frequency of  electronic  is  1\n",
      "Frequency of  typesetting,  is  1\n",
      "Frequency of  remaining  is  1\n",
      "Frequency of  essentially  is  1\n",
      "Frequency of  unchanged.  is  1\n",
      "Frequency of  was  is  1\n",
      "Frequency of  popularised  is  1\n",
      "Frequency of  in  is  1\n",
      "Frequency of  1960s  is  1\n",
      "Frequency of  with  is  2\n",
      "Frequency of  release  is  1\n",
      "Frequency of  Letraset  is  1\n",
      "Frequency of  sheets  is  1\n",
      "Frequency of  containing  is  1\n",
      "Frequency of  passages,  is  1\n",
      "Frequency of  more  is  1\n",
      "Frequency of  recently  is  1\n",
      "Frequency of  desktop  is  1\n",
      "Frequency of  publishing  is  1\n",
      "Frequency of  software  is  1\n",
      "Frequency of  like  is  1\n",
      "Frequency of  Aldus  is  1\n",
      "Frequency of  PageMaker  is  1\n",
      "Frequency of  including  is  1\n",
      "Frequency of  versions  is  1\n",
      "Frequency of  Ipsum.  is  1\n"
     ]
    }
   ],
   "source": [
    "myfile = open(\"test.txt\")\n",
    "dictionary ={}\n",
    "for lines in myfile.readlines():\n",
    "    for word in lines.split():\n",
    "        if word in dictionary:\n",
    "            dictionary[word] +=1\n",
    "        else:\n",
    "             dictionary[word] = 1\n",
    "for key,value in dictionary.items():\n",
    "    print(\"Frequency of \", key ,\" is \",value)"
   ]
  },
  {
   "cell_type": "markdown",
   "id": "6f9af805",
   "metadata": {},
   "source": [
    " 3 most frequent words"
   ]
  },
  {
   "cell_type": "code",
   "execution_count": 67,
   "id": "f4c64ce6",
   "metadata": {},
   "outputs": [
    {
     "name": "stdout",
     "output_type": "stream",
     "text": [
      "Top 3 most used words:\n",
      "the: 6\n",
      "Lorem: 4\n",
      "of: 4\n"
     ]
    }
   ],
   "source": [
    "myfile = open(\"test.txt\")\n",
    "dictionary ={}\n",
    "for lines in myfile.readlines():\n",
    "    for word in lines.split():\n",
    "        if word in dictionary:\n",
    "            dictionary[word] +=1\n",
    "        else:\n",
    "             dictionary[word] = 1\n",
    "sorted_words = sorted(dictionary, key=dictionary.get, reverse=True)\n",
    "\n",
    "print(\"Top 3 most used words:\")\n",
    "for word in sorted_words[:3]:\n",
    "    print(f\"{word}: {dictionary[word]}\")"
   ]
  },
  {
   "cell_type": "markdown",
   "id": "0f9a0391",
   "metadata": {},
   "source": [
    " 9. Define a tuple with the names of three countries. Write a\n",
    "    program that prints each country's name along with its length."
   ]
  },
  {
   "cell_type": "code",
   "execution_count": 41,
   "id": "2349ef20",
   "metadata": {},
   "outputs": [
    {
     "name": "stdout",
     "output_type": "stream",
     "text": [
      "The country India has a name length of 5 characters.\n",
      "The country South Africa has a name length of 12 characters.\n",
      "The country New Zealand has a name length of 11 characters.\n"
     ]
    }
   ],
   "source": [
    "countries = (\"India\",\"South Africa\", \"New Zealand\")\n",
    "\n",
    "for country in countries:\n",
    "    print(f\"The country {country} has a name length of {len(country)} characters.\")"
   ]
  },
  {
   "cell_type": "markdown",
   "id": "08889c4e",
   "metadata": {},
   "source": [
    " 10. Create a program that prompts the user to enter a list of names.\n",
    "    Then, display the list in alphabetical order."
   ]
  },
  {
   "cell_type": "code",
   "execution_count": 49,
   "id": "69c03981",
   "metadata": {},
   "outputs": [
    {
     "name": "stdout",
     "output_type": "stream",
     "text": [
      "Enter the number of names : 5\n",
      "Enter 1 name : Rohit Sharma\n",
      "Enter 2 name : Ishan Kishan\n",
      "Enter 3 name : Shreyas Iyer\n",
      "Enter 4 name : Virat Kohli\n",
      "Enter 5 name : KL Rahul\n",
      "---------------- Sorted order is -----------------\n",
      "Ishan Kishan\n",
      "KL Rahul\n",
      "Rohit Sharma\n",
      "Shreyas Iyer\n",
      "Virat Kohli\n"
     ]
    }
   ],
   "source": [
    "n = int(input(\"Enter the number of names : \"))\n",
    "names = [ input(f\"Enter {x+1} name : \") for x in range(n)]\n",
    "names.sort()\n",
    "print(\"---------------- Sorted order is -----------------\")\n",
    "for name in names:\n",
    "    print(name)"
   ]
  }
 ],
 "metadata": {
  "kernelspec": {
   "display_name": "Python 3 (ipykernel)",
   "language": "python",
   "name": "python3"
  },
  "language_info": {
   "codemirror_mode": {
    "name": "ipython",
    "version": 3
   },
   "file_extension": ".py",
   "mimetype": "text/x-python",
   "name": "python",
   "nbconvert_exporter": "python",
   "pygments_lexer": "ipython3",
   "version": "3.11.4"
  }
 },
 "nbformat": 4,
 "nbformat_minor": 5
}
